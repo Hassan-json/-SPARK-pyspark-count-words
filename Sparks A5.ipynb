{
 "cells": [
  {
   "cell_type": "code",
   "execution_count": 1,
   "metadata": {},
   "outputs": [
    {
     "data": {
      "text/plain": [
       "124456"
      ]
     },
     "execution_count": 1,
     "metadata": {},
     "output_type": "execute_result"
    }
   ],
   "source": [
    "from pyspark import SparkContext\n",
    "from pyspark.sql import SparkSession\n",
    "sc = SparkContext(appName = \"wordcount\")\n",
    "spark = SparkSession.Builder().getOrCreate()\n",
    "text_file = sc.textFile(\"sk.txt\") \\\n",
    "            .map( lambda x: x.replace(',',' ').replace('.',' ').replace('-',' ').lower()) \\\n",
    "# line numbers\n",
    "text_file.count()"
   ]
  },
  {
   "cell_type": "code",
   "execution_count": 2,
   "metadata": {},
   "outputs": [
    {
     "name": "stdout",
     "output_type": "stream",
     "text": [
      "0 :  : 680273 \n",
      "1 : the : 27572 \n",
      "2 : and : 26752 \n",
      "3 : i : 20191 \n",
      "4 : to : 19338 \n",
      "5 : of : 18135 \n",
      "6 : a : 14520 \n",
      "7 : you : 12991 \n",
      "8 : my : 12468 \n",
      "9 : that : 10964 \n",
      "10 : in : 10914 \n",
      "11 : is : 9503 \n",
      "12 : not : 8453 \n",
      "13 : for : 8215 \n",
      "14 : with : 7973 \n",
      "15 : it : 7224 \n",
      "16 : be : 6979 \n",
      "17 : me : 6962 \n",
      "18 : your : 6875 \n",
      "19 : his : 6825 \n",
      "20 : this : 6299 \n",
      "21 : but : 6272 \n",
      "22 : he : 6102 \n",
      "23 : as : 5934 \n",
      "24 : have : 5845 \n"
     ]
    }
   ],
   "source": [
    "counts = text_file.flatMap(lambda line: line.split(\" \")) \\\n",
    "             .map(lambda word: (word, 1)) \\\n",
    "             .reduceByKey(lambda a, b: a + b)\n",
    "sorted_counts = counts.sortBy(lambda wordCounts: wordCounts[1], ascending=False)\n",
    "# the #24 most used word in Shakespeares writings\n",
    "# the first one is not a word \n",
    "i = 0\n",
    "for word, count in sorted_counts.collect()[0:25]:\n",
    "    print(\"{} : {} : {} \".format(i, word, count))\n",
    "    i += 1"
   ]
  },
  {
   "cell_type": "code",
   "execution_count": null,
   "metadata": {},
   "outputs": [],
   "source": []
  }
 ],
 "metadata": {
  "kernelspec": {
   "display_name": "Python 3",
   "language": "python",
   "name": "python3"
  },
  "language_info": {
   "codemirror_mode": {
    "name": "ipython",
    "version": 3
   },
   "file_extension": ".py",
   "mimetype": "text/x-python",
   "name": "python",
   "nbconvert_exporter": "python",
   "pygments_lexer": "ipython3",
   "version": "3.7.4"
  }
 },
 "nbformat": 4,
 "nbformat_minor": 4
}
